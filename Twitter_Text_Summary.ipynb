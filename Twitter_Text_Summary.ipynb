{
  "nbformat": 4,
  "nbformat_minor": 0,
  "metadata": {
    "colab": {
      "name": "Twitter Text Summary.ipynb",
      "provenance": [],
      "authorship_tag": "ABX9TyPJp3pgQLKMdvpyi7uOOZQG",
      "include_colab_link": true
    },
    "kernelspec": {
      "name": "python3",
      "display_name": "Python 3"
    },
    "accelerator": "GPU"
  },
  "cells": [
    {
      "cell_type": "markdown",
      "metadata": {
        "id": "view-in-github",
        "colab_type": "text"
      },
      "source": [
        "<a href=\"https://colab.research.google.com/github/balajisriraj/Twitter-Summary-mini-Project/blob/main/Twitter_Text_Summary.ipynb\" target=\"_parent\"><img src=\"https://colab.research.google.com/assets/colab-badge.svg\" alt=\"Open In Colab\"/></a>"
      ]
    },
    {
      "cell_type": "code",
      "metadata": {
        "id": "TaKatJ4spaPq",
        "outputId": "a67af3a4-85c1-4b90-9dfb-0f43baf0f03d",
        "colab": {
          "base_uri": "https://localhost:8080/",
          "height": 336
        }
      },
      "source": [
        "! pip install transformers"
      ],
      "execution_count": 2,
      "outputs": [
        {
          "output_type": "stream",
          "text": [
            "Requirement already satisfied: transformers in /usr/local/lib/python3.6/dist-packages (3.3.1)\n",
            "Requirement already satisfied: numpy in /usr/local/lib/python3.6/dist-packages (from transformers) (1.18.5)\n",
            "Requirement already satisfied: filelock in /usr/local/lib/python3.6/dist-packages (from transformers) (3.0.12)\n",
            "Requirement already satisfied: regex!=2019.12.17 in /usr/local/lib/python3.6/dist-packages (from transformers) (2019.12.20)\n",
            "Requirement already satisfied: sentencepiece!=0.1.92 in /usr/local/lib/python3.6/dist-packages (from transformers) (0.1.91)\n",
            "Requirement already satisfied: tqdm>=4.27 in /usr/local/lib/python3.6/dist-packages (from transformers) (4.41.1)\n",
            "Requirement already satisfied: dataclasses; python_version < \"3.7\" in /usr/local/lib/python3.6/dist-packages (from transformers) (0.7)\n",
            "Requirement already satisfied: tokenizers==0.8.1.rc2 in /usr/local/lib/python3.6/dist-packages (from transformers) (0.8.1rc2)\n",
            "Requirement already satisfied: requests in /usr/local/lib/python3.6/dist-packages (from transformers) (2.23.0)\n",
            "Requirement already satisfied: packaging in /usr/local/lib/python3.6/dist-packages (from transformers) (20.4)\n",
            "Requirement already satisfied: sacremoses in /usr/local/lib/python3.6/dist-packages (from transformers) (0.0.43)\n",
            "Requirement already satisfied: certifi>=2017.4.17 in /usr/local/lib/python3.6/dist-packages (from requests->transformers) (2020.6.20)\n",
            "Requirement already satisfied: chardet<4,>=3.0.2 in /usr/local/lib/python3.6/dist-packages (from requests->transformers) (3.0.4)\n",
            "Requirement already satisfied: idna<3,>=2.5 in /usr/local/lib/python3.6/dist-packages (from requests->transformers) (2.10)\n",
            "Requirement already satisfied: urllib3!=1.25.0,!=1.25.1,<1.26,>=1.21.1 in /usr/local/lib/python3.6/dist-packages (from requests->transformers) (1.24.3)\n",
            "Requirement already satisfied: six in /usr/local/lib/python3.6/dist-packages (from packaging->transformers) (1.15.0)\n",
            "Requirement already satisfied: pyparsing>=2.0.2 in /usr/local/lib/python3.6/dist-packages (from packaging->transformers) (2.4.7)\n",
            "Requirement already satisfied: joblib in /usr/local/lib/python3.6/dist-packages (from sacremoses->transformers) (0.16.0)\n",
            "Requirement already satisfied: click in /usr/local/lib/python3.6/dist-packages (from sacremoses->transformers) (7.1.2)\n"
          ],
          "name": "stdout"
        }
      ]
    },
    {
      "cell_type": "code",
      "metadata": {
        "id": "yJE9wv8Fwg4j",
        "outputId": "83577a35-99b8-449b-c36a-4dee1852dc94",
        "colab": {
          "base_uri": "https://localhost:8080/",
          "height": 34
        }
      },
      "source": [
        "import torch\n",
        "import json \n",
        "from transformers import T5Tokenizer, T5ForConditionalGeneration, T5Config\n",
        "\n",
        "import os\n",
        "from google.colab import drive\n",
        "drive.mount('/content/drive')\n"
      ],
      "execution_count": 3,
      "outputs": [
        {
          "output_type": "stream",
          "text": [
            "Drive already mounted at /content/drive; to attempt to forcibly remount, call drive.mount(\"/content/drive\", force_remount=True).\n"
          ],
          "name": "stdout"
        }
      ]
    },
    {
      "cell_type": "code",
      "metadata": {
        "id": "vpLWZDvh1lH_",
        "outputId": "3335a359-5b86-426f-ff9a-d65036ac089f",
        "colab": {
          "base_uri": "https://localhost:8080/",
          "height": 34
        }
      },
      "source": [
        "os.chdir(\"drive/My Drive/temp_data\")\n",
        "os.listdir()"
      ],
      "execution_count": 7,
      "outputs": [
        {
          "output_type": "execute_result",
          "data": {
            "text/plain": [
              "['jud.txt']"
            ]
          },
          "metadata": {
            "tags": []
          },
          "execution_count": 7
        }
      ]
    },
    {
      "cell_type": "code",
      "metadata": {
        "id": "xv45-eRuphku"
      },
      "source": [
        "model = T5ForConditionalGeneration.from_pretrained('t5-small')\n",
        "tokenizer = T5Tokenizer.from_pretrained('t5-small')\n",
        "device = torch.device('cuda')\n"
      ],
      "execution_count": 5,
      "outputs": []
    },
    {
      "cell_type": "code",
      "metadata": {
        "id": "fM8GIYHCz7E-"
      },
      "source": [
        "with open('jud.txt', 'r') as myfile:\n",
        "    data = myfile.read()\n",
        "sentences = data.split('\\\\n')"
      ],
      "execution_count": 8,
      "outputs": []
    },
    {
      "cell_type": "code",
      "metadata": {
        "id": "Y1cfX7dQqFfF"
      },
      "source": [
        "text = '''\n",
        "\n",
        "The massive undertaking to clean the Singapore River of filth and human detritus was nearly complete, the first Town Councils were established, and air-conditioned buses just started plying the streets. It's a year of change, with the tiny island state still reeling from the 1985 recession.\n",
        "\n",
        "Singapore was still in the midst of transforming into then-Prime Minister Lee Kuan Yew's vision of a flourishing \"Garden City\".\n",
        "\n",
        "And while tens of thousands of trees and shrubs were being planted across the island to create the rain tree and bougainvillea-lined streets Singapore is so famous for today, the island was undergoing intensive urban development.\n",
        "\n",
        "Yet, an untouched haven sat at the northwestern tip of Singapore.\n",
        "\n",
        "It is this secluded patch of mangroves, where the seed of bottom-up conservation was planted, and which has since grown to become a precious sanctuary for the nature community.\n",
        "\n",
        "An untouched gem\n",
        "It was in this year that Malaysia-born Ho Hua Chew stumbled across the mangroves in Sungei Buloh wetlands.\n",
        "\n",
        "Ho had returned to Singapore in the early 80s after completing his post-graduate studies in Washington, U.S., with his wife.\n",
        "\n",
        "Having picked up birdwatching while abroad, he joined the Nature Society Singapore's (NSS) Bird Group.\n",
        "\n",
        "The NSS, then known as Malayan Nature Society, is one of Singapore's oldest non-governmental organisations, and its roots can be traced as far back as 1921.\n",
        "\n",
        "Upon his return, he decided to explore the local countryside for more birdlife, believing that he \"should get to know it in a more intimate sort of way\".\n",
        "\n",
        "It was during this period that Ho first discovered Sungei Buloh, after catching wind of its existence from fellow birdwatcher and NSS member Richard Hale.\n",
        "\n",
        "Photo from Nature Society Singapore via PictureSG\n",
        "Speaking to Mothership, Ho described his absolute awe at unearthing this hidden gem.\n",
        "\n",
        "\"When I was informed of it by Sutari, another Bird group member, who got the news from Mr Hale, I went to recce the area with Sutari and was simply amazed with the tremendous flocks of the shorebirds feeding and wheeling about over the mudbeds of the fish ponds in the area.\"\n",
        "\n",
        "To be cleared for agrotechnology\n",
        "Ironically, Sungei Buloh was originally designated as a forest reserve in 1890 until its status was altered in 1938.\n",
        "\n",
        "The wetlands, which back then was degraded and merely consisted of ponds and mudflats, yet home to an unexpected trove of biodiversity, was slated for development for intensive agrotechnology.\n",
        "\n",
        "As the brackish mangrove water and waterlogged mud contained plenty of organic nutrients, the area was ideal for prawn farming.\n",
        "\n",
        "Having just discovered Sungei Buloh, Ho was unwilling to leave it to the bulldozers.\n",
        "\n",
        "His desire to protect Sungei Buloh was further spurred by the recent loss of another piece of wetland — the Sungei Serangoon estuary, which had been converted into a dumping ground despite being renowned as a haven for migratory shorebirds.\n",
        "\n",
        "Nine months of creating a conservation proposal\n",
        "Ho and several others from NSS sprang into action.\n",
        "\n",
        "A team was formed to formulate a proposal for Sungei Buloh's conservation.\n",
        "\n",
        "Coming up with the proposal was no walk in the park. It took around nine months, and the team had to meet once a month at various venues for discussion.\n",
        "\n",
        "Conservation and civic society at the time in Singapore was in its fledgling stages.\n",
        "\n",
        "Noting that the existing climate then was of prioritising socio-economic development, the process of formulating the proposal was \"slow\" and \"cautious\".\n",
        "\n",
        "Only in December 1987, did a group of six comprising Ho, Hale, former National University Singapore lecturer Clive Briffet, the late conservationist and veteran wildlife consultant Subaraj Rajathurai, ornithologist Christopher Hails, and surgeon Rexon Ngim, finalise the proposal.\n",
        "\n",
        "The result was an illustrated booklet highlighting the richness of Sungei Buloh. Describing it as an area rife with potential and a \"veritable microcosm of culture and natural history\", the proposal was specifically geared towards pointing out the economic, human benefits and educational value conserving this piece of nature would bring.\n",
        "\n",
        "Photo from Nature Society Singapore via PictureSG\n",
        "It also included an inventory of the birdlife there and suggestions on how the area could be managed, such as a visitor centre and a programme of guided walks and farming tours.\n",
        "\n",
        "The proposal was subsequently distributed to anyone of importance — permanent secretaries, ministers, MPs, as well as the prime minister and president.\n",
        "\n",
        "Giving then-President Wee Kim Wee a tour\n",
        "Ho and the NSS's efforts weren't for naught.\n",
        "\n",
        "Perhaps due to the passion with which the group sought to lobby for this untouched piece of nature tucked away in urbanising Singapore, they even managed to snag then-president Wee Kim Wee for an unofficial visit to the site.\n",
        "\n",
        "Recounting it as one of his most memorable moments at Sungei Buloh, Ho said it was a very \"relaxing event with no protocol and hurry like an official visit\".\n",
        "\n",
        "Leaving behind his entourage, Wee merely had his aide-de-camp by his side.\n",
        "\n",
        "Ho (rightmost) as part of the group escorting then-President Wee Kim Wee through Sungei Buloh. Photo courtesy of Nature Society Singapore\n",
        "Ho and the five other men in the group accompanied the president to a pond where a surprise picnic table heaped with snacks and drinks had been set up by Wee's staff.\n",
        "\n",
        "It served as the perfect vantage point to observe the shorebirds ambling on the mudflats.\n",
        "\n",
        "\"We could see that [Wee] enjoyed the experience as well, seeing with his own eyes the spectacular vast flocks of shorebirds like plovers, sandpipers, egrets, etc. that took off in unison from the mudbeds and flying around low in the sky above and landing like confetti again.\"\n",
        "\n",
        "It was a \"pleasant\" experience, Ho said, \"a sumptuous makan, out there in the open countryside!\"\n",
        "\n",
        "Photo courtesy of Nature Society Singapore\n",
        "A milestone for civic society\n",
        "And perhaps it was that intimate visit to Sungei Buloh which finally convinced Wee and the authorities.\n",
        "\n",
        "On Apr. 8, 1988, then-Minister for Foreign Affairs and National Development S. Dhanabalan announced that 85ha of Sungei Buloh would be set aside as a bird sanctuary.\n",
        "\n",
        "S Dhanabalan (left with binoculars) and Goh Chok Tong (right in brown). Photo from Nature Society Singapore via PictureSG\n",
        "A total area of 87ha was eventually designated as the new Sungei Buloh Nature Park in 1989.\n",
        "\n",
        "Although this fell short of the 318ha originally proposed, a study conducted by Hails had deemed the area sizeable enough to support birdlife.\n",
        "\n",
        "Nevertheless, this concession was a minor issue in light of the major breakthrough Ho and friends had made — it was the first time Singapore had set aside any plot of land for conservation since its independence.\n",
        "\n",
        "In a country and era where most tend to duck their heads in the face of nationwide change, the protection of Sungei Buloh marked a historic moment both for nature conservation and civic society here.\n",
        "\n",
        "Ho said that although the period prior to the announcement was \"pretty exciting\", he and the others had not been too confident of success.\n",
        "\n",
        "He told The Straits Times that many others were pessimistic about the outcome, telling him: \"Don't hope for it.\"\n",
        "\n",
        "The success thus came largely as a surprise, and Ho humbly said that perhaps they had been \"lucky\".\n",
        "\n",
        "Ho (leftmost) with visitors. Photo from Nature Society Singapore via PictureSG\n",
        "Nature park to nature reserve\n",
        "The subsequent conversion of the rather bare-bones mudflat to a full-fledged nature park — including the installation of footpaths, boardwalks, a visitor centre and bird observation hides — cost S$8.5 million.\n",
        "\n",
        "View of the main bridge in 1993. Photo from NParks\n",
        "The entire operation involved collaboration between various government agencies and the NSS.\n",
        "\n",
        "Special care was taken to maintain the ecological integrity of the site. For example, the boardwalks were built by hand instead of utilising heavy machinery.\n",
        "\n",
        "Sungei Buloh Nature Park was officially opened by then-Prime Minister Goh Chok Tong on Dec. 6, 1993, and attracted 17,000 visitors in its first month.\n",
        "\n",
        "Goh Chok Tong (second from left), walking along the Main Bridge during the park's opening ceremony. Photo from NParks\n",
        "Almost 10 years on, it could be said that Ho's efforts culminated in the gazetting of 130ha of Sungei Buloh as a nature reserve in 2002, marking it as the only wetland reserve in Singapore.\n",
        "\n",
        "An important site for diverse wildlife\n",
        "Since then, Sungei Buloh Wetland Reserve (SBWR) has transformed into a beloved spot for avid birdwatchers, or just a secluded place for visitors to escape the hustle and bustle of city life and immerse themselves in the sights and sounds of nature.\n",
        "\n",
        "The mangroves and mudflats serve as an important stopover for migratory birds from all around the world, and about 62 species of birds were recorded on its shores in the year 2000.\n",
        "\n",
        "A flock of Common redshanks. Photo from Brian Jefferly Beggerly / Flickr\n",
        "From August to September every year, thousands of these birds drop by from as far as Russia, Mongolia, North China, Japan and Korea to rest or roost.\n",
        "\n",
        "Some stop briefly before heading onwards to Indonesia, Australia and New Zealand, while others spend the winter here until March or April before flying back to their breeding grounds in the Northern Hemisphere.\n",
        "\n",
        "A Mongolian plover. Photo from Lip Kee / Flickr\n",
        "Sungei Buloh isn't only home to diverse birdlife: It is host to 27 of the world's 70 species of mangroves, monitor lizards, mudskippers and the native Estuarine crocodile, the latter of which regularly sparks some healthy fear and excitement whenever spotted.\n",
        "\n",
        "Decades after pioneering conservation in Singapore, the now 74-year-old Ho shares that he still visits Sungei Buloh every \"now and then\".\n",
        "\n",
        "Whenever rare or endangered bird species turn up, such as the locally-extinct Lesser Adjutant stork from across the Johor Straits or a nesting Buffy fish owl, Ho makes a point to head down.\n",
        "\n",
        "Not only has Sungei Buloh served as a crucial habitat for wildlife, but it has also brought together and anchored a tight-knit community of birdwatchers and nature lovers.\n",
        "\n",
        "Photo from Rotary Club of Jurong Town, Singapore / FB\n",
        "A 400ha green network by 2022\n",
        "In August earlier this year, Minister for National Development Desmond Lee announced NParks' renewed efforts to enhance Singapore's natural capital to evolve the country into a \"City in Nature\".\n",
        "\n",
        "Various green spaces in the northwest of Singapore will be combined to form a new Sungei Buloh Nature Park Network that will span 400ha and is slated for completion in 2022.\n",
        "\n",
        "The network will comprise the Sungei Buloh Wetland Reserve, as well as other important core habitats like the Mandai Mangrove and Mudflat, Kranji Marshes, parks, eco-corridors and nature areas, such as Jalan Gemala and Kranji Reservoir Marshes.\n",
        "\n",
        "\n",
        "In total, this is three times the size of the original wetland reserve, about half the size of Toa Payoh town.\n",
        "\n",
        "These green spaces, when included as part of the network, will help to act as buffers to the reserve.\n",
        "\n",
        "\n",
        "This transformation of Sungei Buloh is an impressive feat — considering how the formerly barren mudflats have grown alongside rapidly developing Singapore — something which must have been even more of a sight to behold for a pioneer like Ho, who himself had a hand in its growth.\n",
        "\n",
        "\"It's simply great!\" Ho said, describing this evolution from mudflat to nature park network as a \"big splash for the government’s \"City in Nature\" thrust.\n",
        "\n",
        "Ho with Minister for National Development Desmond Lee. Photo from Desmond Lee / FB\n",
        "Ho marvelled:\n",
        "\n",
        "\"Buloh wasn’t even a mangrove area when we first proposed for its conservation; it was almost bare and treeless with just aquaculture ponds and mudbeds and bunds around these ponds. Now the mangrove is almost everywhere in the area, growing luxuriantly, providing cooling shades and shields for visitors strolling along the bunds.\"\n",
        "\n",
        "Ho added that not only will the green network benefit species in Singapore, protecting the northwestern coast of Singapore will simultaneously promote the survival of species from across the Johor Strait that take refuge here.\n",
        "\n",
        "Room for improvement\n",
        "Despite his clear admiration for what Sungei Buloh has become, and true to the conservationist in him, Ho has plenty of suggestions for improvement.\n",
        "\n",
        "He pointed out that any areas towards the seaward border of the mangroves should be conserved, and should not even be touched by the construction of recreational paths or park-connectivity routes, so as not to disturb wildlife feeding or nesting in those areas.\n",
        "\n",
        "Ho also hopes the network can stretch across Lim Chu Kang, which will be converted into a new nature park as well, all the way to the Western catchment to encompass the existing mangrove and forest patches at Sungei Melayu.\n",
        "\n",
        "Additionally, Ho expressed concerns about the agricultural area bordering the southern side of the Sungei Buloh Nature Park Network.\n",
        "\n",
        "\"There is a need to have proper control of the farming activities going hereabout so the Buloh Park Network will not be subjected to the risk of pollution,\" Ho said.\n",
        "\n",
        "The road of activism hasn't been a bed of roses for Ho though, and despite the tremendous success of Sungei Buloh, subsequent attempts to save other plots of land, such as the Senoko wetlands in the 1990s, fell through.\n",
        "\n",
        "Nevertheless, Ho holds out hope, citing the government's willingness in recent years to listen to the public's voice.\n",
        "\n",
        "And despite all that he has accomplished in the past decades and the generations of young activists and nature lovers he has inspired, Ho remains humble and modest.\n",
        "\n",
        "\"I don't have a talent for administration. We're amateurs. We fumble, we struggle... I concentrate on the birdlife. If you believe in a cause, that nature has value, you just push on.\"\n",
        "\n",
        "\n",
        " \n",
        "\n",
        "'''"
      ],
      "execution_count": 14,
      "outputs": []
    },
    {
      "cell_type": "code",
      "metadata": {
        "id": "84jnnSqhqFhV",
        "outputId": "516fcfd9-7c34-4788-f715-abb7be0e5716",
        "colab": {
          "base_uri": "https://localhost:8080/",
          "height": 70
        }
      },
      "source": [
        "preprocess_text = text.strip().replace(\"\\n\",\"\")\n",
        "t5_prepared_Text = \"summarize: \"+preprocess_text\n",
        "print (\"original text preprocessed: \\n\", preprocess_text)\n"
      ],
      "execution_count": 15,
      "outputs": [
        {
          "output_type": "stream",
          "text": [
            "original text preprocessed: \n",
            " The massive undertaking to clean the Singapore River of filth and human detritus was nearly complete, the first Town Councils were established, and air-conditioned buses just started plying the streets. It's a year of change, with the tiny island state still reeling from the 1985 recession.Singapore was still in the midst of transforming into then-Prime Minister Lee Kuan Yew's vision of a flourishing \"Garden City\".And while tens of thousands of trees and shrubs were being planted across the island to create the rain tree and bougainvillea-lined streets Singapore is so famous for today, the island was undergoing intensive urban development.Yet, an untouched haven sat at the northwestern tip of Singapore.It is this secluded patch of mangroves, where the seed of bottom-up conservation was planted, and which has since grown to become a precious sanctuary for the nature community.An untouched gemIt was in this year that Malaysia-born Ho Hua Chew stumbled across the mangroves in Sungei Buloh wetlands.Ho had returned to Singapore in the early 80s after completing his post-graduate studies in Washington, U.S., with his wife.Having picked up birdwatching while abroad, he joined the Nature Society Singapore's (NSS) Bird Group.The NSS, then known as Malayan Nature Society, is one of Singapore's oldest non-governmental organisations, and its roots can be traced as far back as 1921.Upon his return, he decided to explore the local countryside for more birdlife, believing that he \"should get to know it in a more intimate sort of way\".It was during this period that Ho first discovered Sungei Buloh, after catching wind of its existence from fellow birdwatcher and NSS member Richard Hale.Photo from Nature Society Singapore via PictureSGSpeaking to Mothership, Ho described his absolute awe at unearthing this hidden gem.\"When I was informed of it by Sutari, another Bird group member, who got the news from Mr Hale, I went to recce the area with Sutari and was simply amazed with the tremendous flocks of the shorebirds feeding and wheeling about over the mudbeds of the fish ponds in the area.\"To be cleared for agrotechnologyIronically, Sungei Buloh was originally designated as a forest reserve in 1890 until its status was altered in 1938.The wetlands, which back then was degraded and merely consisted of ponds and mudflats, yet home to an unexpected trove of biodiversity, was slated for development for intensive agrotechnology.As the brackish mangrove water and waterlogged mud contained plenty of organic nutrients, the area was ideal for prawn farming.Having just discovered Sungei Buloh, Ho was unwilling to leave it to the bulldozers.His desire to protect Sungei Buloh was further spurred by the recent loss of another piece of wetland — the Sungei Serangoon estuary, which had been converted into a dumping ground despite being renowned as a haven for migratory shorebirds.Nine months of creating a conservation proposalHo and several others from NSS sprang into action.A team was formed to formulate a proposal for Sungei Buloh's conservation.Coming up with the proposal was no walk in the park. It took around nine months, and the team had to meet once a month at various venues for discussion.Conservation and civic society at the time in Singapore was in its fledgling stages.Noting that the existing climate then was of prioritising socio-economic development, the process of formulating the proposal was \"slow\" and \"cautious\".Only in December 1987, did a group of six comprising Ho, Hale, former National University Singapore lecturer Clive Briffet, the late conservationist and veteran wildlife consultant Subaraj Rajathurai, ornithologist Christopher Hails, and surgeon Rexon Ngim, finalise the proposal.The result was an illustrated booklet highlighting the richness of Sungei Buloh. Describing it as an area rife with potential and a \"veritable microcosm of culture and natural history\", the proposal was specifically geared towards pointing out the economic, human benefits and educational value conserving this piece of nature would bring.Photo from Nature Society Singapore via PictureSGIt also included an inventory of the birdlife there and suggestions on how the area could be managed, such as a visitor centre and a programme of guided walks and farming tours.The proposal was subsequently distributed to anyone of importance — permanent secretaries, ministers, MPs, as well as the prime minister and president.Giving then-President Wee Kim Wee a tourHo and the NSS's efforts weren't for naught.Perhaps due to the passion with which the group sought to lobby for this untouched piece of nature tucked away in urbanising Singapore, they even managed to snag then-president Wee Kim Wee for an unofficial visit to the site.Recounting it as one of his most memorable moments at Sungei Buloh, Ho said it was a very \"relaxing event with no protocol and hurry like an official visit\".Leaving behind his entourage, Wee merely had his aide-de-camp by his side.Ho (rightmost) as part of the group escorting then-President Wee Kim Wee through Sungei Buloh. Photo courtesy of Nature Society SingaporeHo and the five other men in the group accompanied the president to a pond where a surprise picnic table heaped with snacks and drinks had been set up by Wee's staff.It served as the perfect vantage point to observe the shorebirds ambling on the mudflats.\"We could see that [Wee] enjoyed the experience as well, seeing with his own eyes the spectacular vast flocks of shorebirds like plovers, sandpipers, egrets, etc. that took off in unison from the mudbeds and flying around low in the sky above and landing like confetti again.\"It was a \"pleasant\" experience, Ho said, \"a sumptuous makan, out there in the open countryside!\"Photo courtesy of Nature Society SingaporeA milestone for civic societyAnd perhaps it was that intimate visit to Sungei Buloh which finally convinced Wee and the authorities.On Apr. 8, 1988, then-Minister for Foreign Affairs and National Development S. Dhanabalan announced that 85ha of Sungei Buloh would be set aside as a bird sanctuary.S Dhanabalan (left with binoculars) and Goh Chok Tong (right in brown). Photo from Nature Society Singapore via PictureSGA total area of 87ha was eventually designated as the new Sungei Buloh Nature Park in 1989.Although this fell short of the 318ha originally proposed, a study conducted by Hails had deemed the area sizeable enough to support birdlife.Nevertheless, this concession was a minor issue in light of the major breakthrough Ho and friends had made — it was the first time Singapore had set aside any plot of land for conservation since its independence.In a country and era where most tend to duck their heads in the face of nationwide change, the protection of Sungei Buloh marked a historic moment both for nature conservation and civic society here.Ho said that although the period prior to the announcement was \"pretty exciting\", he and the others had not been too confident of success.He told The Straits Times that many others were pessimistic about the outcome, telling him: \"Don't hope for it.\"The success thus came largely as a surprise, and Ho humbly said that perhaps they had been \"lucky\".Ho (leftmost) with visitors. Photo from Nature Society Singapore via PictureSGNature park to nature reserveThe subsequent conversion of the rather bare-bones mudflat to a full-fledged nature park — including the installation of footpaths, boardwalks, a visitor centre and bird observation hides — cost S$8.5 million.View of the main bridge in 1993. Photo from NParksThe entire operation involved collaboration between various government agencies and the NSS.Special care was taken to maintain the ecological integrity of the site. For example, the boardwalks were built by hand instead of utilising heavy machinery.Sungei Buloh Nature Park was officially opened by then-Prime Minister Goh Chok Tong on Dec. 6, 1993, and attracted 17,000 visitors in its first month.Goh Chok Tong (second from left), walking along the Main Bridge during the park's opening ceremony. Photo from NParksAlmost 10 years on, it could be said that Ho's efforts culminated in the gazetting of 130ha of Sungei Buloh as a nature reserve in 2002, marking it as the only wetland reserve in Singapore.An important site for diverse wildlifeSince then, Sungei Buloh Wetland Reserve (SBWR) has transformed into a beloved spot for avid birdwatchers, or just a secluded place for visitors to escape the hustle and bustle of city life and immerse themselves in the sights and sounds of nature.The mangroves and mudflats serve as an important stopover for migratory birds from all around the world, and about 62 species of birds were recorded on its shores in the year 2000.A flock of Common redshanks. Photo from Brian Jefferly Beggerly / FlickrFrom August to September every year, thousands of these birds drop by from as far as Russia, Mongolia, North China, Japan and Korea to rest or roost.Some stop briefly before heading onwards to Indonesia, Australia and New Zealand, while others spend the winter here until March or April before flying back to their breeding grounds in the Northern Hemisphere.A Mongolian plover. Photo from Lip Kee / FlickrSungei Buloh isn't only home to diverse birdlife: It is host to 27 of the world's 70 species of mangroves, monitor lizards, mudskippers and the native Estuarine crocodile, the latter of which regularly sparks some healthy fear and excitement whenever spotted.Decades after pioneering conservation in Singapore, the now 74-year-old Ho shares that he still visits Sungei Buloh every \"now and then\".Whenever rare or endangered bird species turn up, such as the locally-extinct Lesser Adjutant stork from across the Johor Straits or a nesting Buffy fish owl, Ho makes a point to head down.Not only has Sungei Buloh served as a crucial habitat for wildlife, but it has also brought together and anchored a tight-knit community of birdwatchers and nature lovers.Photo from Rotary Club of Jurong Town, Singapore / FBA 400ha green network by 2022In August earlier this year, Minister for National Development Desmond Lee announced NParks' renewed efforts to enhance Singapore's natural capital to evolve the country into a \"City in Nature\".Various green spaces in the northwest of Singapore will be combined to form a new Sungei Buloh Nature Park Network that will span 400ha and is slated for completion in 2022.The network will comprise the Sungei Buloh Wetland Reserve, as well as other important core habitats like the Mandai Mangrove and Mudflat, Kranji Marshes, parks, eco-corridors and nature areas, such as Jalan Gemala and Kranji Reservoir Marshes.In total, this is three times the size of the original wetland reserve, about half the size of Toa Payoh town.These green spaces, when included as part of the network, will help to act as buffers to the reserve.This transformation of Sungei Buloh is an impressive feat — considering how the formerly barren mudflats have grown alongside rapidly developing Singapore — something which must have been even more of a sight to behold for a pioneer like Ho, who himself had a hand in its growth.\"It's simply great!\" Ho said, describing this evolution from mudflat to nature park network as a \"big splash for the government’s \"City in Nature\" thrust.Ho with Minister for National Development Desmond Lee. Photo from Desmond Lee / FBHo marvelled:\"Buloh wasn’t even a mangrove area when we first proposed for its conservation; it was almost bare and treeless with just aquaculture ponds and mudbeds and bunds around these ponds. Now the mangrove is almost everywhere in the area, growing luxuriantly, providing cooling shades and shields for visitors strolling along the bunds.\"Ho added that not only will the green network benefit species in Singapore, protecting the northwestern coast of Singapore will simultaneously promote the survival of species from across the Johor Strait that take refuge here.Room for improvementDespite his clear admiration for what Sungei Buloh has become, and true to the conservationist in him, Ho has plenty of suggestions for improvement.He pointed out that any areas towards the seaward border of the mangroves should be conserved, and should not even be touched by the construction of recreational paths or park-connectivity routes, so as not to disturb wildlife feeding or nesting in those areas.Ho also hopes the network can stretch across Lim Chu Kang, which will be converted into a new nature park as well, all the way to the Western catchment to encompass the existing mangrove and forest patches at Sungei Melayu.Additionally, Ho expressed concerns about the agricultural area bordering the southern side of the Sungei Buloh Nature Park Network.\"There is a need to have proper control of the farming activities going hereabout so the Buloh Park Network will not be subjected to the risk of pollution,\" Ho said.The road of activism hasn't been a bed of roses for Ho though, and despite the tremendous success of Sungei Buloh, subsequent attempts to save other plots of land, such as the Senoko wetlands in the 1990s, fell through.Nevertheless, Ho holds out hope, citing the government's willingness in recent years to listen to the public's voice.And despite all that he has accomplished in the past decades and the generations of young activists and nature lovers he has inspired, Ho remains humble and modest.\"I don't have a talent for administration. We're amateurs. We fumble, we struggle... I concentrate on the birdlife. If you believe in a cause, that nature has value, you just push on.\"\n"
          ],
          "name": "stdout"
        }
      ]
    },
    {
      "cell_type": "code",
      "metadata": {
        "id": "FAlqNkFWqFmz"
      },
      "source": [
        "tokenized_text = tokenizer.encode(t5_prepared_Text, return_tensors=\"pt\", max_length = 1024, truncation = True  )"
      ],
      "execution_count": 16,
      "outputs": []
    },
    {
      "cell_type": "code",
      "metadata": {
        "id": "D42WqV4vqFpW"
      },
      "source": [
        "# summmarize \n",
        "summary_ids = model.generate(tokenized_text,\n",
        "                                    num_beams=40,\n",
        "                                    no_repeat_ngram_size=20,\n",
        "                                    min_length=50,\n",
        "                                    max_length=100,\n",
        "                                    early_stopping=False)\n"
      ],
      "execution_count": 17,
      "outputs": []
    },
    {
      "cell_type": "code",
      "metadata": {
        "id": "BOG96i1mqFrz",
        "outputId": "741e5df5-555b-4996-b2b6-1d5fb29a1522",
        "colab": {
          "base_uri": "https://localhost:8080/",
          "height": 104
        }
      },
      "source": [
        "output = tokenizer.decode(summary_ids[0], skip_special_tokens=True)\n",
        "\n",
        "print (\"\\n\\nSummarized text: \\n\",output)"
      ],
      "execution_count": 18,
      "outputs": [
        {
          "output_type": "stream",
          "text": [
            "\n",
            "\n",
            "Summarized text: \n",
            " it's a year of change, with the island still reeling from the 1985 recession. tens of thousands of trees and shrubs were being planted across the island to create the rain tree and bougainvillea-lined streets. sungei Buloh was originally designated as a forest reserve in 1890 until its status was altered in 1938.\n"
          ],
          "name": "stdout"
        }
      ]
    },
    {
      "cell_type": "code",
      "metadata": {
        "id": "e_OsFiDAqGTF"
      },
      "source": [
        ""
      ],
      "execution_count": null,
      "outputs": []
    }
  ]
}