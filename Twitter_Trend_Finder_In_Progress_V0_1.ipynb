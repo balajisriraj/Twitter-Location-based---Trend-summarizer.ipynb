{
  "nbformat": 4,
  "nbformat_minor": 0,
  "metadata": {
    "colab": {
      "name": "Twitter Trend Finder - In Progress V0.1.ipynb",
      "provenance": [],
      "collapsed_sections": [],
      "authorship_tag": "ABX9TyMEBIKvk8+MUlUGisOb9irY",
      "include_colab_link": true
    },
    "kernelspec": {
      "name": "python3",
      "display_name": "Python 3"
    }
  },
  "cells": [
    {
      "cell_type": "markdown",
      "metadata": {
        "id": "view-in-github",
        "colab_type": "text"
      },
      "source": [
        "<a href=\"https://colab.research.google.com/github/balajisriraj/Twitter-Summary-mini-Project/blob/main/Twitter_Trend_Finder_In_Progress_V0_1.ipynb\" target=\"_parent\"><img src=\"https://colab.research.google.com/assets/colab-badge.svg\" alt=\"Open In Colab\"/></a>"
      ]
    },
    {
      "cell_type": "markdown",
      "metadata": {
        "id": "DAVSA9sIY2si"
      },
      "source": [
        "Import Python Modules"
      ]
    },
    {
      "cell_type": "code",
      "metadata": {
        "id": "OhEISLWWAYZf"
      },
      "source": [
        "import pandas as pd\n",
        "from tweepy import OAuthHandler\n",
        "from tweepy import API\n",
        "from googletrans import Translator "
      ],
      "execution_count": 97,
      "outputs": []
    },
    {
      "cell_type": "code",
      "metadata": {
        "id": "Pkhnje97AzM2"
      },
      "source": [
        "#Past the keys from your local drive"
      ],
      "execution_count": 115,
      "outputs": []
    },
    {
      "cell_type": "code",
      "metadata": {
        "id": "7JLrr96DA0lD"
      },
      "source": [
        "# Consumer key authentication(consumer_key,consumer_secret can be collected from our twitter developer profile)\n",
        "auth = OAuthHandler(consumer_key, consumer_secret)\n",
        "# Access key authentication(access_token,access_token_secret can be collected from our twitter developer profile)\n",
        "auth.set_access_token(access_token, access_token_secret)\n",
        "# Set up the API with the authentication handler\n",
        "api = API(auth)"
      ],
      "execution_count": 3,
      "outputs": []
    },
    {
      "cell_type": "code",
      "metadata": {
        "id": "VQMoZmjjDMhO"
      },
      "source": [
        "WOE_ID = 2295424 # Where on Earth id can be extracted from https://nations24.com/world-wide\n",
        "lan_find = Translator() # for finding teh language of the hashtags"
      ],
      "execution_count": 85,
      "outputs": []
    },
    {
      "cell_type": "code",
      "metadata": {
        "id": "fs8rjQFVCvpF"
      },
      "source": [
        "def get_location_trends(locations, auth,n_hashtags,lang):\n",
        "  api = API(auth)\n",
        "  trends = api.trends_place(locations)\n",
        "  data = trends[0]\n",
        "  trends_data = data['trends']\n",
        "  global tred_data\n",
        "  tred_data = []\n",
        "  for info in trends_data:\n",
        "    tred_data.append([info['name'],info['tweet_volume'],lan_find.detect(info['name']).lang ] )\n",
        "  tred_data = pd.DataFrame(tred_data, columns = list(['Hashtag',\n",
        "                                                    'Tweet_Volume', 'Language'])).sort_values(by = ['Tweet_Volume'],ascending = False)\n",
        "  #select english language trends\n",
        "  tred_data = tred_data[tred_data.Language == lang]\n",
        "  #select top 3 trends\n",
        "  tred_data = tred_data.nlargest(n_hashtags,columns=['Tweet_Volume'])\n",
        "  return tred_data"
      ],
      "execution_count": 113,
      "outputs": []
    },
    {
      "cell_type": "code",
      "metadata": {
        "id": "Q7jC8BaWETNk",
        "outputId": "e2b0786d-4634-42d1-8637-02fc9cb3121c",
        "colab": {
          "base_uri": "https://localhost:8080/",
          "height": 136
        }
      },
      "source": [
        "get_location_trends(WOE_ID,auth,3,'en')"
      ],
      "execution_count": 114,
      "outputs": [
        {
          "output_type": "execute_result",
          "data": {
            "text/html": [
              "<div>\n",
              "<style scoped>\n",
              "    .dataframe tbody tr th:only-of-type {\n",
              "        vertical-align: middle;\n",
              "    }\n",
              "\n",
              "    .dataframe tbody tr th {\n",
              "        vertical-align: top;\n",
              "    }\n",
              "\n",
              "    .dataframe thead th {\n",
              "        text-align: right;\n",
              "    }\n",
              "</style>\n",
              "<table border=\"1\" class=\"dataframe\">\n",
              "  <thead>\n",
              "    <tr style=\"text-align: right;\">\n",
              "      <th></th>\n",
              "      <th>Hashtag</th>\n",
              "      <th>Tweet_Volume</th>\n",
              "      <th>Language</th>\n",
              "    </tr>\n",
              "  </thead>\n",
              "  <tbody>\n",
              "    <tr>\n",
              "      <th>19</th>\n",
              "      <td>#SavageLoveRemix</td>\n",
              "      <td>1199337.0</td>\n",
              "      <td>en</td>\n",
              "    </tr>\n",
              "    <tr>\n",
              "      <th>12</th>\n",
              "      <td>#TrumpHasCovid</td>\n",
              "      <td>447137.0</td>\n",
              "      <td>en</td>\n",
              "    </tr>\n",
              "    <tr>\n",
              "      <th>4</th>\n",
              "      <td>#DalitLivesMatter</td>\n",
              "      <td>79897.0</td>\n",
              "      <td>en</td>\n",
              "    </tr>\n",
              "  </tbody>\n",
              "</table>\n",
              "</div>"
            ],
            "text/plain": [
              "              Hashtag  Tweet_Volume Language\n",
              "19   #SavageLoveRemix     1199337.0       en\n",
              "12     #TrumpHasCovid      447137.0       en\n",
              "4   #DalitLivesMatter       79897.0       en"
            ]
          },
          "metadata": {
            "tags": []
          },
          "execution_count": 114
        }
      ]
    },
    {
      "cell_type": "code",
      "metadata": {
        "id": "3i7SUtxUEbpK"
      },
      "source": [
        ""
      ],
      "execution_count": 107,
      "outputs": []
    },
    {
      "cell_type": "code",
      "metadata": {
        "id": "T_5ZKLe3aFC1"
      },
      "source": [
        ""
      ],
      "execution_count": 110,
      "outputs": []
    },
    {
      "cell_type": "code",
      "metadata": {
        "id": "EjVMJTTEEfNf",
        "outputId": "23d90171-c4c5-4be9-ed72-6f877b905a3f",
        "colab": {
          "base_uri": "https://localhost:8080/",
          "height": 106
        }
      },
      "source": [
        ""
      ],
      "execution_count": 111,
      "outputs": [
        {
          "output_type": "execute_result",
          "data": {
            "text/html": [
              "<div>\n",
              "<style scoped>\n",
              "    .dataframe tbody tr th:only-of-type {\n",
              "        vertical-align: middle;\n",
              "    }\n",
              "\n",
              "    .dataframe tbody tr th {\n",
              "        vertical-align: top;\n",
              "    }\n",
              "\n",
              "    .dataframe thead th {\n",
              "        text-align: right;\n",
              "    }\n",
              "</style>\n",
              "<table border=\"1\" class=\"dataframe\">\n",
              "  <thead>\n",
              "    <tr style=\"text-align: right;\">\n",
              "      <th></th>\n",
              "      <th>Hashtag</th>\n",
              "      <th>Tweet_Volume</th>\n",
              "      <th>Language</th>\n",
              "    </tr>\n",
              "  </thead>\n",
              "  <tbody>\n",
              "    <tr>\n",
              "      <th>19</th>\n",
              "      <td>#SavageLoveRemix</td>\n",
              "      <td>1195543.0</td>\n",
              "      <td>en</td>\n",
              "    </tr>\n",
              "    <tr>\n",
              "      <th>11</th>\n",
              "      <td>#TrumpHasCovid</td>\n",
              "      <td>443265.0</td>\n",
              "      <td>en</td>\n",
              "    </tr>\n",
              "  </tbody>\n",
              "</table>\n",
              "</div>"
            ],
            "text/plain": [
              "             Hashtag  Tweet_Volume Language\n",
              "19  #SavageLoveRemix     1195543.0       en\n",
              "11    #TrumpHasCovid      443265.0       en"
            ]
          },
          "metadata": {
            "tags": []
          },
          "execution_count": 111
        }
      ]
    },
    {
      "cell_type": "code",
      "metadata": {
        "id": "3hifT7gZYT85",
        "outputId": "b308b8e3-dd22-498f-b2d2-8f32bcd587d6",
        "colab": {
          "base_uri": "https://localhost:8080/",
          "height": 34
        }
      },
      "source": [
        "lang = detect(\"#सुदर्शन_की_हार_हिंदुओ_की_हार\")\n",
        "print(lang)\n"
      ],
      "execution_count": 91,
      "outputs": [
        {
          "output_type": "stream",
          "text": [
            "hi\n"
          ],
          "name": "stdout"
        }
      ]
    },
    {
      "cell_type": "code",
      "metadata": {
        "id": "pud70zEJYnxG"
      },
      "source": [
        ""
      ],
      "execution_count": null,
      "outputs": []
    }
  ]
}