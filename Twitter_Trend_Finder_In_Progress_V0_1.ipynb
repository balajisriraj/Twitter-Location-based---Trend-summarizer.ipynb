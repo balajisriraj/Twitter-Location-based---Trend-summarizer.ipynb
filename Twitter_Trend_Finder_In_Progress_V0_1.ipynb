{
  "nbformat": 4,
  "nbformat_minor": 0,
  "metadata": {
    "colab": {
      "name": "Twitter Trend Finder - In Progress V0.1.ipynb",
      "provenance": [],
      "collapsed_sections": [],
      "authorship_tag": "ABX9TyMmNood6c+cqvJXBLr/vC6X",
      "include_colab_link": true
    },
    "kernelspec": {
      "name": "python3",
      "display_name": "Python 3"
    }
  },
  "cells": [
    {
      "cell_type": "markdown",
      "metadata": {
        "id": "view-in-github",
        "colab_type": "text"
      },
      "source": [
        "<a href=\"https://colab.research.google.com/github/balajisriraj/Twitter-Summary-mini-Project/blob/main/Twitter_Trend_Finder_In_Progress_V0_1.ipynb\" target=\"_parent\"><img src=\"https://colab.research.google.com/assets/colab-badge.svg\" alt=\"Open In Colab\"/></a>"
      ]
    },
    {
      "cell_type": "markdown",
      "metadata": {
        "id": "ddOsrd5-go4X"
      },
      "source": [
        "Project Flow:\n",
        "\n",
        "- Connect to Twittter API using the required creds\n",
        "- Find the Top trending Hashtags\n",
        "- Then filter the hashtags which are in English language\n",
        "- Filter Top 3 Hashtags from that\n",
        "- For these 3 hashtags, fetch 100 Tweets individually\n",
        "- Combain all the 100 tweets into one big corpus\n",
        "- Do basic Data Cleaning & Processing for better Tokenization\n",
        "- Using Text to Text transformer t5 model Summarize the tweets\n",
        "- Show Summarized text output for each Hashtag"
      ]
    },
    {
      "cell_type": "markdown",
      "metadata": {
        "id": "DAVSA9sIY2si"
      },
      "source": [
        "Import Python Modules"
      ]
    },
    {
      "cell_type": "code",
      "metadata": {
        "id": "OhEISLWWAYZf"
      },
      "source": [
        "import pandas as pd\n",
        "import tweepy\n",
        "from tweepy import OAuthHandler\n",
        "from tweepy import API\n",
        "from googletrans import Translator\n",
        "import GetOldTweets3 as got\n",
        "import datetime"
      ],
      "execution_count": 149,
      "outputs": []
    },
    {
      "cell_type": "code",
      "metadata": {
        "id": "Pkhnje97AzM2"
      },
      "source": [
        "#Past the keys from your local drive"
      ],
      "execution_count": 142,
      "outputs": []
    },
    {
      "cell_type": "code",
      "metadata": {
        "id": "7JLrr96DA0lD"
      },
      "source": [
        "# Consumer key authentication(consumer_key,consumer_secret can be collected from our twitter developer profile)\n",
        "auth = OAuthHandler(consumer_key, consumer_secret)\n",
        "# Access key authentication(access_token,access_token_secret can be collected from our twitter developer profile)\n",
        "auth.set_access_token(access_token, access_token_secret)\n",
        "# Set up the API with the authentication handler\n",
        "api = API(auth)"
      ],
      "execution_count": 143,
      "outputs": []
    },
    {
      "cell_type": "code",
      "metadata": {
        "id": "VQMoZmjjDMhO"
      },
      "source": [
        "WOE_ID = 2295424 # Where on Earth id can be extracted from https://nations24.com/world-wide\n",
        "lan_find = Translator() # for finding teh language of the hashtags"
      ],
      "execution_count": 144,
      "outputs": []
    },
    {
      "cell_type": "code",
      "metadata": {
        "id": "fs8rjQFVCvpF"
      },
      "source": [
        "def get_location_trends(locations, auth,n_hashtags,lang):\n",
        "  api = API(auth)\n",
        "  trends = api.trends_place(locations)\n",
        "  data = trends[0]\n",
        "  trends_data = data['trends']\n",
        "  global tred_data\n",
        "  tred_data = []\n",
        "  for info in trends_data:\n",
        "    tred_data.append([info['name'],info['tweet_volume'],lan_find.detect(info['name']).lang ] )\n",
        "  tred_data = pd.DataFrame(tred_data, columns = list(['Hashtag',\n",
        "                                                    'Tweet_Volume', 'Language'])).sort_values(by = ['Tweet_Volume'],ascending = False)\n",
        "  #select english language trends\n",
        "  tred_data = tred_data[tred_data.Language == lang]\n",
        "  #select top 3 trends\n",
        "  tred_data = tred_data.nlargest(n_hashtags,columns=['Tweet_Volume'])\n",
        "  return tred_data"
      ],
      "execution_count": 145,
      "outputs": []
    },
    {
      "cell_type": "code",
      "metadata": {
        "id": "Q7jC8BaWETNk",
        "outputId": "fd4df550-a2aa-44d8-d312-cb2619e952c1",
        "colab": {
          "base_uri": "https://localhost:8080/",
          "height": 136
        }
      },
      "source": [
        "df_trending = get_location_trends(WOE_ID,auth,3,'en')\n",
        "df_trending"
      ],
      "execution_count": 146,
      "outputs": [
        {
          "output_type": "execute_result",
          "data": {
            "text/html": [
              "<div>\n",
              "<style scoped>\n",
              "    .dataframe tbody tr th:only-of-type {\n",
              "        vertical-align: middle;\n",
              "    }\n",
              "\n",
              "    .dataframe tbody tr th {\n",
              "        vertical-align: top;\n",
              "    }\n",
              "\n",
              "    .dataframe thead th {\n",
              "        text-align: right;\n",
              "    }\n",
              "</style>\n",
              "<table border=\"1\" class=\"dataframe\">\n",
              "  <thead>\n",
              "    <tr style=\"text-align: right;\">\n",
              "      <th></th>\n",
              "      <th>Hashtag</th>\n",
              "      <th>Tweet_Volume</th>\n",
              "      <th>Language</th>\n",
              "    </tr>\n",
              "  </thead>\n",
              "  <tbody>\n",
              "    <tr>\n",
              "      <th>24</th>\n",
              "      <td>#PCAs</td>\n",
              "      <td>3193948.0</td>\n",
              "      <td>en</td>\n",
              "    </tr>\n",
              "    <tr>\n",
              "      <th>25</th>\n",
              "      <td>#SavageLoveRemix</td>\n",
              "      <td>1228436.0</td>\n",
              "      <td>en</td>\n",
              "    </tr>\n",
              "    <tr>\n",
              "      <th>11</th>\n",
              "      <td>#TrumpHasCovid</td>\n",
              "      <td>475296.0</td>\n",
              "      <td>en</td>\n",
              "    </tr>\n",
              "  </tbody>\n",
              "</table>\n",
              "</div>"
            ],
            "text/plain": [
              "             Hashtag  Tweet_Volume Language\n",
              "24             #PCAs     3193948.0       en\n",
              "25  #SavageLoveRemix     1228436.0       en\n",
              "11    #TrumpHasCovid      475296.0       en"
            ]
          },
          "metadata": {
            "tags": []
          },
          "execution_count": 146
        }
      ]
    },
    {
      "cell_type": "code",
      "metadata": {
        "id": "w23ffhlY0e2C"
      },
      "source": [
        "hashtag_list = list(df_trending['Hashtag'])"
      ],
      "execution_count": 215,
      "outputs": []
    },
    {
      "cell_type": "code",
      "metadata": {
        "id": "UGGsDHjcjp5A",
        "outputId": "3f38a09d-98b7-4130-f3fa-aae11eb8505f",
        "colab": {
          "base_uri": "https://localhost:8080/",
          "height": 188
        }
      },
      "source": [
        "for htag in hashtag_list:\n",
        "  today = datetime.datetime.now().strftime(\"%Y-%m-%d\")\n",
        "  tweets = tweepy.Cursor(api.search,\n",
        "              q=htag,\n",
        "              lang=\"en\",\n",
        "              since=today).items(5)\n",
        "  tweets= [tweet.text for tweet in tweets]\n",
        "  print(htag)\n",
        "  print('')\n",
        "  print(tweets)"
      ],
      "execution_count": 217,
      "outputs": [
        {
          "output_type": "stream",
          "text": [
            "#PCAs\n",
            "\n",
            "['@Elser92259846 @BTS_twt Love \\n#TheGroup #BTS #PCAs \\n@BTS_twt', 'RT @7withArmy: I vote for #BTS under #TheGroup category at #PCAs 2020 \\n@BTS_twt', 'RT @perfectlyswift2: I voted for #OnlyTheYoung for #TheSoundtrackSong  #PCAs \\n@taylorswift13', 'RT @mygtrivias: 2,000 retweets challenge! Keep your eyes on the goals.\\n\\nI vote for #Dynamite for #TheMusicVideo category at #PCAs 2020 @BTS…', 'I vote for #BTS under #TheGroup category at #PCAs 2020 \\n@BTS_twt  the truth untold']\n",
            "#SavageLoveRemix\n",
            "\n",
            "[\"RT @Metro_Ents: Jungkook takes the lead on BTS's #SavageLoveRemix and our golden maknae is all grown up https://t.co/LM1b7fTxHp\", 'RT @SugaChartData: #SavageLoveRemix has entered the Top 10 on US iTunes at #6', 'RT @bts_bighit: #BTS #방탄소년단 #SavageLoveRemix OUT NOW\\n \\n🎶 https://t.co/r7grqx9OLM\\n🎶 https://t.co/dS6OAheQBT \\n\\n@Jawsh_685 x @jasonderulo x #B…', 'RT @kkoobap: ONLY JUNGKOOK CAN MAKE SWEARING SOUND SO CUTE AND SEXC AT THE SAME TIME\\n\\n#SavageLoveRemix @BTS_twt\\nhttps://t.co/A2E4VGqlOp', 'RT @BTSISAMOVEMENT: A thread of #SavageLoveRemix X #Dynamite Spotify playlists.']\n",
            "#TrumpHasCovid\n",
            "\n",
            "['#TrumpHasCovid\\n\\nI’ve got the word Trumpona stuck in my head 😂', 'RT @DeAnna4Congress: I’m just going to say what we’re all thinking.\\n\\nTrump was fine until the debate, where they set up microphones &amp; podiu…', 'RT @its_rog1: #TrumpHasCovid \\nPres. Trump mocking Joe Biden: \"I don\\'t wear masks like him. Every time you see him, he\\'s got a mask. He coul…', 'RT @FCDallasMom2: Trump after testing positive for Covid19: “We will get through this together”\\n\\nTrump before testing positive for Covid19.…', 'RT @phoebewallers: me &amp; my 3 friends who are awake to see that trump got covid\\n#TrumpHasCovid #Karma https://t.co/7sulJD3vMs']\n"
          ],
          "name": "stdout"
        }
      ]
    },
    {
      "cell_type": "code",
      "metadata": {
        "id": "WW32l3Jav_qt",
        "outputId": "9d74c9f8-bf59-49b2-dab0-37acda3a33db",
        "colab": {
          "base_uri": "https://localhost:8080/",
          "height": 101
        }
      },
      "source": [
        "tweets"
      ],
      "execution_count": 201,
      "outputs": [
        {
          "output_type": "execute_result",
          "data": {
            "text/plain": [
              "['RT @CEDRdigital: Images of #GlassFire burning in #NapaCounty and #SonomaCounty. One of over 2 dozen major #wildfires in #California',\n",
              " 'Man made #ClimateChange does not only effect us.  What gives us the right to sit back while this stuff happens?… https://t.co/ovM7j13Gn5',\n",
              " 'RT @CEDRdigital: Images of #GlassFire burning in #NapaCounty and #SonomaCounty. One of over 2 dozen major #wildfires in #California',\n",
              " 'Images of #GlassFire burning in #NapaCounty and #SonomaCounty. One of over 2 dozen major #wildfires in #California https://t.co/LynaaLcohG',\n",
              " 'RT @RedCrossNorCal: Don’t let your guard down! If you are in an at-risk area for #wildfires, be prepared to evacuate. The weather remains h…']"
            ]
          },
          "metadata": {
            "tags": []
          },
          "execution_count": 201
        }
      ]
    },
    {
      "cell_type": "code",
      "metadata": {
        "id": "5olcy3TEyaj8"
      },
      "source": [
        ""
      ],
      "execution_count": 207,
      "outputs": []
    },
    {
      "cell_type": "code",
      "metadata": {
        "id": "7LtN2SBGytWL"
      },
      "source": [
        ""
      ],
      "execution_count": 203,
      "outputs": []
    },
    {
      "cell_type": "code",
      "metadata": {
        "id": "IL9nYy0ez_nZ",
        "outputId": "c55325a4-35fd-454b-86ee-811f3d1279c3",
        "colab": {
          "base_uri": "https://localhost:8080/",
          "height": 35
        }
      },
      "source": [
        ""
      ],
      "execution_count": 208,
      "outputs": [
        {
          "output_type": "execute_result",
          "data": {
            "application/vnd.google.colaboratory.intrinsic+json": {
              "type": "string"
            },
            "text/plain": [
              "'2020-10-02'"
            ]
          },
          "metadata": {
            "tags": []
          },
          "execution_count": 208
        }
      ]
    },
    {
      "cell_type": "code",
      "metadata": {
        "id": "HwZLdEl00MFK"
      },
      "source": [
        ""
      ],
      "execution_count": null,
      "outputs": []
    }
  ]
}